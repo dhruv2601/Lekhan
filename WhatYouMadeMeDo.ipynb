{
 "cells": [
  {
   "cell_type": "code",
   "execution_count": 10,
   "metadata": {
    "collapsed": true
   },
   "outputs": [],
   "source": [
    "import cv2\n",
    "import numpy as np\n",
    "from matplotlib import pyplot as plt\n",
    "from matplotlib.pyplot import imread, imsave\n",
    "from PIL import Image\n",
    "import PIL.ImageOps\n",
    "import PIL.Image\n",
    "from tqdm import tqdm\n",
    "import os\n",
    "\n",
    "%matplotlib inline"
   ]
  },
  {
   "cell_type": "code",
   "execution_count": 43,
   "metadata": {},
   "outputs": [],
   "source": [
    "#converting tif to jpg\n",
    "DATA_DIR = \"K:\\Research\\Lekhan\\LAMP_HWR\"\n",
    "OUT_DATA_DIR = \"K:\\Research\\Lekhan\\dataset\"\n",
    "IMG_H = 2800\n",
    "IMG_W = 2200\n",
    "outfile = \"temp.jpg\"\n",
    "\n",
    "def createData():\n",
    "    for dir in tqdm(os.listdir(DATA_DIR)):\n",
    "        folder_path = os.path.join(DATA_DIR, dir)\n",
    "        tempName = dir.split('\\\\')[-1]\n",
    "        for folder in tqdm(os.listdir(folder_path)):\n",
    "            img_path = os.path.join(folder_path,folder)\n",
    "            for imgs in tqdm(os.listdir(img_path)):  \n",
    "                path = os.path.join(img_path, imgs)\n",
    "            \n",
    "                tempName_1 = path.split('.')[0]\n",
    "#                 print(tempName_1)\n",
    "                imgName = tempName_1+'.jpg'\n",
    "#                 print(imgName)\n",
    "                imgLangFolder = path.split('\\\\')[-2]\n",
    "                imgLang = path.split('\\\\')[-3]\n",
    "\n",
    "                temp = Image.open(path)\n",
    "                temp.thumbnail(temp.size)\n",
    "                temp.save(outfile, \"JPEG\", quality=100)\n",
    "            \n",
    "                im = cv2.imread(outfile)\n",
    "                h,w,ch = im.shape\n",
    "                print(h,w,ch)\n",
    "                os.remove(outfile)\n",
    "# OTSU Thresholding\n",
    "                im = cv2.cvtColor(im, cv2.COLOR_BGR2GRAY)\n",
    "                blur = cv2.GaussianBlur(im, (5,5), 0)\n",
    "                ret, thr = cv2.threshold(blur, 0, 255, cv2.THRESH_BINARY+cv2.THRESH_OTSU)\n",
    "                cv2.imwrite(outfile, thr)\n",
    "            \n",
    "                im = cv2.imread(outfile)\n",
    "                (_, im) = cv2.threshold(im , 128, 255 , cv2.THRESH_BINARY_INV)\n",
    "                linek = cv2.getStructuringElement(cv2.MORPH_RECT,(1,5))\n",
    "                y = cv2.morphologyEx(im, cv2.MORPH_OPEN, linek, iterations=1)\n",
    "                (_, im) = cv2.threshold(y , 128, 255 , cv2.THRESH_BINARY_INV)\n",
    "#                 print(OUT_DATA_DIR)\n",
    "#                 print(imgLang)\n",
    "#                 print(imgLangFolder)\n",
    "                imgName = imgName.split('\\\\')[-1]\n",
    "                \n",
    "                tempPath = OUT_DATA_DIR+\"\\\\\"+imgLang+\"\\\\\"+imgLangFolder\n",
    "#                 print(tempPath)\n",
    "                finalPath = OUT_DATA_DIR+\"\\\\\"+imgLang+\"\\\\\"+imgLangFolder+\"\\\\\"+imgName\n",
    "                print(finalPath)\n",
    "                if not os.path.exists(tempPath):\n",
    "                    os.mkdir(tempPath)\n",
    "                if(h>2800 and w>2200):\n",
    "                    im = cv2.resize(im, (IMG_H,IMG_W))\n",
    "                cv2.imwrite(finalPath, im) "
   ]
  },
  {
   "cell_type": "code",
   "execution_count": 44,
   "metadata": {
    "scrolled": true
   },
   "outputs": [
    {
     "name": "stderr",
     "output_type": "stream",
     "text": [
      "  0%|                                                                                            | 0/9 [00:00<?, ?it/s]\n",
      "  0%|                                                                                           | 0/74 [00:00<?, ?it/s]\n",
      "\n",
      "  0%|                                                                                           | 0/69 [00:00<?, ?it/s]"
     ]
    },
    {
     "name": "stdout",
     "output_type": "stream",
     "text": [
      "3300 2528 3\n",
      "K:\\Research\\Lekhan\\dataset\\CHI\\CHI001\\CHI0010001.jpg\n"
     ]
    },
    {
     "name": "stderr",
     "output_type": "stream",
     "text": [
      "\n",
      "\n",
      "  1%|█▏                                                                                 | 1/69 [00:01<01:16,  1.13s/it]"
     ]
    },
    {
     "name": "stdout",
     "output_type": "stream",
     "text": [
      "3300 2528 3\n",
      "K:\\Research\\Lekhan\\dataset\\CHI\\CHI001\\CHI0010002.jpg\n"
     ]
    },
    {
     "name": "stderr",
     "output_type": "stream",
     "text": [
      "\n",
      "\n",
      "  3%|██▍                                                                                | 2/69 [00:02<01:20,  1.20s/it]"
     ]
    },
    {
     "name": "stdout",
     "output_type": "stream",
     "text": [
      "3300 2528 3\n",
      "K:\\Research\\Lekhan\\dataset\\CHI\\CHI001\\CHI0010003.jpg\n"
     ]
    },
    {
     "name": "stderr",
     "output_type": "stream",
     "text": [
      "\n",
      "\n",
      "  4%|███▌                                                                               | 3/69 [00:03<01:08,  1.04s/it]"
     ]
    },
    {
     "name": "stdout",
     "output_type": "stream",
     "text": [
      "3300 2528 3\n",
      "K:\\Research\\Lekhan\\dataset\\CHI\\CHI001\\CHI0010004.jpg\n"
     ]
    },
    {
     "name": "stderr",
     "output_type": "stream",
     "text": [
      "\n",
      "\n",
      "  6%|████▊                                                                              | 4/69 [00:03<00:59,  1.10it/s]"
     ]
    },
    {
     "name": "stdout",
     "output_type": "stream",
     "text": [
      "3300 2528 3\n",
      "K:\\Research\\Lekhan\\dataset\\CHI\\CHI001\\CHI0010005.jpg\n"
     ]
    },
    {
     "name": "stderr",
     "output_type": "stream",
     "text": [
      "\n",
      "\n",
      "  7%|██████                                                                             | 5/69 [00:05<01:05,  1.02s/it]"
     ]
    },
    {
     "name": "stdout",
     "output_type": "stream",
     "text": [
      "3300 2528 3\n",
      "K:\\Research\\Lekhan\\dataset\\CHI\\CHI001\\CHI0010006.jpg\n"
     ]
    },
    {
     "name": "stderr",
     "output_type": "stream",
     "text": [
      "\n",
      "\n",
      "  9%|███████▏                                                                           | 6/69 [00:05<00:57,  1.09it/s]"
     ]
    },
    {
     "name": "stdout",
     "output_type": "stream",
     "text": [
      "3300 2528 3\n",
      "K:\\Research\\Lekhan\\dataset\\CHI\\CHI001\\CHI0010007.jpg\n"
     ]
    },
    {
     "name": "stderr",
     "output_type": "stream",
     "text": [
      "\n",
      "\n",
      " 10%|████████▍                                                                          | 7/69 [00:06<00:51,  1.20it/s]"
     ]
    },
    {
     "name": "stdout",
     "output_type": "stream",
     "text": [
      "3300 2528 3\n"
     ]
    },
    {
     "name": "stderr",
     "output_type": "stream",
     "text": [
      "\n",
      "\n",
      "\n",
      "\n"
     ]
    },
    {
     "ename": "KeyboardInterrupt",
     "evalue": "",
     "output_type": "error",
     "traceback": [
      "\u001b[1;31m---------------------------------------------------------------------------\u001b[0m",
      "\u001b[1;31mKeyboardInterrupt\u001b[0m                         Traceback (most recent call last)",
      "\u001b[1;32m<ipython-input-44-ab35f819ae52>\u001b[0m in \u001b[0;36m<module>\u001b[1;34m()\u001b[0m\n\u001b[1;32m----> 1\u001b[1;33m \u001b[0mcreateData\u001b[0m\u001b[1;33m(\u001b[0m\u001b[1;33m)\u001b[0m\u001b[1;33m\u001b[0m\u001b[0m\n\u001b[0m",
      "\u001b[1;32m<ipython-input-43-230c545af998>\u001b[0m in \u001b[0;36mcreateData\u001b[1;34m()\u001b[0m\n\u001b[0;32m     31\u001b[0m                 \u001b[0mos\u001b[0m\u001b[1;33m.\u001b[0m\u001b[0mremove\u001b[0m\u001b[1;33m(\u001b[0m\u001b[0moutfile\u001b[0m\u001b[1;33m)\u001b[0m\u001b[1;33m\u001b[0m\u001b[0m\n\u001b[0;32m     32\u001b[0m                 \u001b[0mim\u001b[0m \u001b[1;33m=\u001b[0m \u001b[0mcv2\u001b[0m\u001b[1;33m.\u001b[0m\u001b[0mcvtColor\u001b[0m\u001b[1;33m(\u001b[0m\u001b[0mim\u001b[0m\u001b[1;33m,\u001b[0m \u001b[0mcv2\u001b[0m\u001b[1;33m.\u001b[0m\u001b[0mCOLOR_BGR2GRAY\u001b[0m\u001b[1;33m)\u001b[0m\u001b[1;33m\u001b[0m\u001b[0m\n\u001b[1;32m---> 33\u001b[1;33m                 \u001b[0mblur\u001b[0m \u001b[1;33m=\u001b[0m \u001b[0mcv2\u001b[0m\u001b[1;33m.\u001b[0m\u001b[0mGaussianBlur\u001b[0m\u001b[1;33m(\u001b[0m\u001b[0mim\u001b[0m\u001b[1;33m,\u001b[0m \u001b[1;33m(\u001b[0m\u001b[1;36m5\u001b[0m\u001b[1;33m,\u001b[0m\u001b[1;36m5\u001b[0m\u001b[1;33m)\u001b[0m\u001b[1;33m,\u001b[0m \u001b[1;36m0\u001b[0m\u001b[1;33m)\u001b[0m\u001b[1;33m\u001b[0m\u001b[0m\n\u001b[0m\u001b[0;32m     34\u001b[0m                 \u001b[0mret\u001b[0m\u001b[1;33m,\u001b[0m \u001b[0mthr\u001b[0m \u001b[1;33m=\u001b[0m \u001b[0mcv2\u001b[0m\u001b[1;33m.\u001b[0m\u001b[0mthreshold\u001b[0m\u001b[1;33m(\u001b[0m\u001b[0mblur\u001b[0m\u001b[1;33m,\u001b[0m \u001b[1;36m0\u001b[0m\u001b[1;33m,\u001b[0m \u001b[1;36m255\u001b[0m\u001b[1;33m,\u001b[0m \u001b[0mcv2\u001b[0m\u001b[1;33m.\u001b[0m\u001b[0mTHRESH_BINARY\u001b[0m\u001b[1;33m+\u001b[0m\u001b[0mcv2\u001b[0m\u001b[1;33m.\u001b[0m\u001b[0mTHRESH_OTSU\u001b[0m\u001b[1;33m)\u001b[0m\u001b[1;33m\u001b[0m\u001b[0m\n\u001b[0;32m     35\u001b[0m                 \u001b[0mcv2\u001b[0m\u001b[1;33m.\u001b[0m\u001b[0mimwrite\u001b[0m\u001b[1;33m(\u001b[0m\u001b[0moutfile\u001b[0m\u001b[1;33m,\u001b[0m \u001b[0mthr\u001b[0m\u001b[1;33m)\u001b[0m\u001b[1;33m\u001b[0m\u001b[0m\n",
      "\u001b[1;31mKeyboardInterrupt\u001b[0m: "
     ]
    }
   ],
   "source": [
    "createData()"
   ]
  },
  {
   "cell_type": "code",
   "execution_count": null,
   "metadata": {},
   "outputs": [],
   "source": []
  },
  {
   "cell_type": "code",
   "execution_count": null,
   "metadata": {
    "collapsed": true
   },
   "outputs": [],
   "source": []
  },
  {
   "cell_type": "code",
   "execution_count": null,
   "metadata": {
    "collapsed": true
   },
   "outputs": [],
   "source": []
  }
 ],
 "metadata": {
  "kernelspec": {
   "display_name": "Python 3",
   "language": "python",
   "name": "python3"
  },
  "language_info": {
   "codemirror_mode": {
    "name": "ipython",
    "version": 3
   },
   "file_extension": ".py",
   "mimetype": "text/x-python",
   "name": "python",
   "nbconvert_exporter": "python",
   "pygments_lexer": "ipython3",
   "version": "3.5.2"
  }
 },
 "nbformat": 4,
 "nbformat_minor": 2
}
