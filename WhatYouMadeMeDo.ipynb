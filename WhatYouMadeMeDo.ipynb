{
 "cells": [
  {
   "cell_type": "code",
   "execution_count": 1,
   "metadata": {},
   "outputs": [],
   "source": [
    "import cv2\n",
    "import numpy as np\n",
    "from matplotlib import pyplot as plt\n",
    "from matplotlib.pyplot import imread, imsave\n",
    "from PIL import Image\n",
    "import PIL.ImageOps\n",
    "import PIL.Image\n",
    "\n",
    "%matplotlib inline"
   ]
  },
  {
   "cell_type": "code",
   "execution_count": 2,
   "metadata": {},
   "outputs": [
    {
     "data": {
      "text/plain": [
       "True"
      ]
     },
     "execution_count": 2,
     "metadata": {},
     "output_type": "execute_result"
    }
   ],
   "source": [
    "#converting tif to jpg\n",
    "outfile = \"temp1.jpg\"\n",
    "im = Image.open('dataset/LAMP_HWR/CHI/CHI001/CHI0010001.tif')\n",
    "# im = Image.open('HEB1950003.tif')\n",
    "im.thumbnail(im.size)\n",
    "im.save(outfile,\"JPEG\",quality=100)\n",
    "\n",
    "img = cv2.imread('temp1.jpg')\n",
    "\n",
    "# OTSU's threshold\n",
    "img = cv2.cvtColor(img, cv2.COLOR_BGR2GRAY)\n",
    "blur = cv2.GaussianBlur(img, (5,5), 0)\n",
    "ret, thr = cv2.threshold(blur, 0, 255, cv2.THRESH_BINARY+cv2.THRESH_OTSU)\n",
    "\n",
    "cv2.imwrite('imgs.jpg',thr)"
   ]
  },
  {
   "cell_type": "code",
   "execution_count": 3,
   "metadata": {},
   "outputs": [
    {
     "data": {
      "text/plain": [
       "True"
      ]
     },
     "execution_count": 3,
     "metadata": {},
     "output_type": "execute_result"
    }
   ],
   "source": [
    "#removing background noise(horizontal lines)\n",
    "img = cv2.imread('imgs.jpg')\n",
    "(_, img) = cv2.threshold(img , 128, 255 , cv2.THRESH_BINARY_INV)\n",
    "linek = cv2.getStructuringElement(cv2.MORPH_RECT,(1,5))\n",
    "y = cv2.morphologyEx(img, cv2.MORPH_OPEN, linek, iterations=1)\n",
    "(_, img) = cv2.threshold(y , 128, 255 , cv2.THRESH_BINARY_INV)\n",
    "cv2.imwrite('processed_img.jpg',img)"
   ]
  },
  {
   "cell_type": "code",
   "execution_count": 29,
   "metadata": {},
   "outputs": [],
   "source": [
    "#removing background noise\n",
    "\"\"\"chopFactor = 3\n",
    "img = PIL.Image.open('imgs.jpg').convert('1')\n",
    "wid, hei = img.size\n",
    "data = img.load()\n",
    "\n",
    "for y in range(hei):\n",
    "    for x in range(wid):\n",
    "        \n",
    "        if data[x,y]>128:\n",
    "            continue\n",
    "        total=0\n",
    "    \n",
    "        for c in range(x, wid):\n",
    "            if data[x,y]<128:\n",
    "                total+=1\n",
    "                \n",
    "            else:\n",
    "                break\n",
    "        \n",
    "        if total<=chopFactor:\n",
    "            for c in range(total):\n",
    "                data[x+c, y] = 255\n",
    "        x+=total\n",
    "\n",
    "for x in range(wid):\n",
    "    for y in range(hei):\n",
    "        \n",
    "        if data[x,y] > 128:\n",
    "            continue\n",
    "        total=0\n",
    "        \n",
    "        for c in range(y, hei):\n",
    "            if data[x,c]<128:\n",
    "                total+=1\n",
    "            else:\n",
    "                break\n",
    "        \n",
    "        if total<=chopFactor:\n",
    "            for c in range(total):\n",
    "                data[x,y+c] = 255\n",
    "        y+=total\n",
    "img.save('chopchop1.jpg')\"\"\""
   ]
  },
  {
   "cell_type": "code",
   "execution_count": null,
   "metadata": {
    "collapsed": true
   },
   "outputs": [],
   "source": []
  }
 ],
 "metadata": {
  "kernelspec": {
   "display_name": "Python 3",
   "language": "python",
   "name": "python3"
  },
  "language_info": {
   "codemirror_mode": {
    "name": "ipython",
    "version": 3
   },
   "file_extension": ".py",
   "mimetype": "text/x-python",
   "name": "python",
   "nbconvert_exporter": "python",
   "pygments_lexer": "ipython3",
   "version": "3.5.2"
  }
 },
 "nbformat": 4,
 "nbformat_minor": 2
}
